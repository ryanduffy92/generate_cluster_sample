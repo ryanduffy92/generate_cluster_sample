{
 "cells": [
  {
   "cell_type": "code",
   "execution_count": 1,
   "metadata": {},
   "outputs": [
    {
     "name": "stderr",
     "output_type": "stream",
     "text": [
      "Loading required package: coda\n",
      "Loading required package: rjags\n",
      "Warning message:\n",
      "“package ‘rjags’ was built under R version 3.6.3”Linked to JAGS 4.3.0\n",
      "Loaded modules: basemod,bugs\n"
     ]
    }
   ],
   "source": [
    "library(lira)"
   ]
  },
  {
   "cell_type": "code",
   "execution_count": 2,
   "metadata": {},
   "outputs": [],
   "source": [
    "noras <- read.csv(file='noras.csv')\n",
    "kt <- log10(noras$kt_obs/5)\n",
    "l <- log10(noras$l_obs/5.0e44)\n",
    "z <- noras$z\n",
    "kt_err <- noras$kt_obs_err\n",
    "l_err <- noras$l_obs_err\n",
    "covarxy <- noras$covarxy\n",
    "ythresh <- log10(noras$ythresh/5.0e44)\n"
   ]
  },
  {
   "cell_type": "code",
   "execution_count": 3,
   "metadata": {},
   "outputs": [],
   "source": [
    "#mcmc <- lira(kt, l, delta.x=kt_err, delta.y=l_err, covariance.xy=covarxy, z=z, y.threshold=ythresh, time.factor=\"Ez\", gamma.sigma.Z.D='dt', gamma.YIZ=-1.0, n.chains=4.0, n.adapt=1000, n.iter=10000)"
   ]
  },
  {
   "cell_type": "markdown",
   "metadata": {},
   "source": [
    "### n.mixture=3"
   ]
  },
  {
   "cell_type": "code",
   "execution_count": 8,
   "metadata": {},
   "outputs": [
    {
     "name": "stdout",
     "output_type": "stream",
     "text": [
      "\n",
      "Iterations = 20002:70001\n",
      "Thinning interval = 1 \n",
      "Number of chains = 4 \n",
      "Sample size per chain = 50000 \n",
      "\n",
      "1. Empirical mean and standard deviation for each variable,\n",
      "   plus standard error of the mean:\n",
      "\n",
      "                            Mean         SD   Naive SE Time-series SE\n",
      "alpha.YIZ             -5.653e-02  1.132e-02  2.532e-05      7.214e-05\n",
      "beta.YIZ               2.848e+00  4.392e-02  9.821e-05      2.799e-04\n",
      "gamma.mu.Z.D           5.331e-01  6.743e-02  1.508e-04      3.807e-03\n",
      "gamma.mu.Z.Fz         -2.089e-01  5.773e-01  1.291e-03      2.662e-02\n",
      "gamma.sigma.Z.D       -6.182e-01  7.691e-02  1.720e-04      1.503e-03\n",
      "mu.Z.0                 3.527e+01  4.102e+03  9.173e+00      6.769e+01\n",
      "mu.Z.0.mixture[2]      5.021e+01  2.885e+03  6.451e+00      2.730e+01\n",
      "mu.Z.0.mixture[3]      1.076e+03  3.534e+03  7.903e+00      1.943e+02\n",
      "pi[1]                  2.088e-01  3.870e-01  8.654e-04      1.380e-02\n",
      "pi[2]                  2.928e-01  4.375e-01  9.783e-04      1.379e-02\n",
      "pi[3]                  4.984e-01  4.951e-01  1.107e-03      3.942e-05\n",
      "sigma.YIZ.0            1.185e-01  7.326e-03  1.638e-05      4.920e-05\n",
      "sigma.Z.0             1.576e+109 2.246e+111 5.022e+108     1.326e+109\n",
      "sigma.Z.0.mixture[2]  1.155e+115 5.761e+116 1.288e+114     7.636e+114\n",
      "sigma.Z.0.mixture[3]  2.457e+119 2.209e+121 4.940e+118     2.303e+119\n",
      "\n",
      "2. Quantiles for each variable:\n",
      "\n",
      "                           2.5%        25%        50%        75%       97.5%\n",
      "alpha.YIZ            -7.880e-02 -6.416e-02 -5.649e-02 -4.888e-02  -3.446e-02\n",
      "beta.YIZ              2.762e+00  2.819e+00  2.848e+00  2.878e+00   2.934e+00\n",
      "gamma.mu.Z.D          4.004e-01  4.883e-01  5.317e-01  5.784e-01   6.672e-01\n",
      "gamma.mu.Z.Fz        -1.389e+00 -5.807e-01 -1.973e-01  1.696e-01   9.199e-01\n",
      "gamma.sigma.Z.D      -7.774e-01 -6.670e-01 -6.164e-01 -5.668e-01  -4.726e-01\n",
      "mu.Z.0               -9.016e+03 -1.319e+02 -3.726e-01  4.241e+02   9.011e+03\n",
      "mu.Z.0.mixture[2]    -7.920e+03 -5.736e-01 -3.928e-01  1.522e+01   8.069e+03\n",
      "mu.Z.0.mixture[3]    -8.026e+03 -5.305e-01 -4.422e-01  3.447e+03   8.051e+03\n",
      "pi[1]                 1.125e-04  1.331e-03  3.534e-03  1.854e-02   9.976e-01\n",
      "pi[2]                 1.113e-04  1.575e-03  4.641e-03  9.784e-01   9.983e-01\n",
      "pi[3]                 1.739e-04  2.306e-03  4.944e-01  9.945e-01   9.988e-01\n",
      "sigma.YIZ.0           1.047e-01  1.135e-01  1.183e-01  1.233e-01   1.334e-01\n",
      "sigma.Z.0             4.205e-01  1.121e+00  1.232e+25  2.552e+58   1.622e+98\n",
      "sigma.Z.0.mixture[2]  4.005e-01  7.757e-01  2.860e+15  1.888e+39  4.728e+100\n",
      "sigma.Z.0.mixture[3]  4.940e-01  6.841e-01  1.256e+00  3.387e+34  2.629e+111\n",
      "\n",
      "[1] \"Gelman and Rubin's convergence diagnostic\"\n"
     ]
    },
    {
     "ename": "ERROR",
     "evalue": "Error in chol.default(W): le mineur dominant d'ordre 11 n'est pas défini positif\n",
     "output_type": "error",
     "traceback": [
      "Error in chol.default(W): le mineur dominant d'ordre 11 n'est pas défini positif\nTraceback:\n",
      "1. lira(kt, l, delta.x = kt_err, delta.y = l_err, covariance.xy = covarxy, \n .     z = z, y.threshold = ythresh, time.factor = \"Ez\", gamma.sigma.Z.D = \"dt\", \n .     gamma.YIZ = 0.42, n.chains = 4, n.adapt = 20000, n.iter = 50000, \n .     n.mixture = 3)",
      "2. print(gelman.diag(mcmc.samples))",
      "3. gelman.diag(mcmc.samples)",
      "4. chol(W)",
      "5. chol.default(W)"
     ]
    }
   ],
   "source": [
    "mcmc <- lira(kt, l, delta.x=kt_err, delta.y=l_err, covariance.xy=covarxy, z=z, y.threshold=ythresh, time.factor=\"Ez\", gamma.sigma.Z.D='dt', gamma.YIZ=0.42, n.chains=4.0, n.adapt=2.0e4, n.iter=5.0e4, n.mixture=3)"
   ]
  },
  {
   "cell_type": "markdown",
   "metadata": {},
   "source": [
    "### n.mixture=2"
   ]
  },
  {
   "cell_type": "code",
   "execution_count": 9,
   "metadata": {},
   "outputs": [
    {
     "name": "stderr",
     "output_type": "stream",
     "text": [
      "Warning message in jags.model(textConnection(ScriptJAGSText), data = data.jags, :\n",
      "“Adaptation incomplete”"
     ]
    },
    {
     "name": "stdout",
     "output_type": "stream",
     "text": [
      "NOTE: Stopping adaptation\n",
      "\n",
      "\n",
      "\n",
      "Iterations = 20002:70001\n",
      "Thinning interval = 1 \n",
      "Number of chains = 4 \n",
      "Sample size per chain = 50000 \n",
      "\n",
      "1. Empirical mean and standard deviation for each variable,\n",
      "   plus standard error of the mean:\n",
      "\n",
      "                            Mean         SD   Naive SE Time-series SE\n",
      "alpha.YIZ             -5.664e-02  1.133e-02  2.534e-05      7.076e-05\n",
      "beta.YIZ               2.849e+00  4.375e-02  9.783e-05      2.752e-04\n",
      "gamma.mu.Z.D           5.437e-01  6.541e-02  1.463e-04      3.560e-03\n",
      "gamma.mu.Z.Fz         -2.976e-01  5.606e-01  1.253e-03      2.446e-02\n",
      "gamma.sigma.Z.D       -6.098e-01  7.276e-02  1.627e-04      1.423e-03\n",
      "mu.Z.0                -5.745e+00  4.099e+03  9.166e+00      4.211e+01\n",
      "mu.Z.0.mixture[2]     -2.053e+02  6.152e+02  1.376e+00      1.715e+02\n",
      "pi[1]                  5.000e-01  4.967e-01  1.111e-03      2.516e-05\n",
      "pi[2]                  5.000e-01  4.967e-01  1.111e-03      2.516e-05\n",
      "sigma.YIZ.0            1.186e-01  7.328e-03  1.639e-05      4.993e-05\n",
      "sigma.Z.0             2.191e+136 1.717e+138 3.840e+135     2.702e+136\n",
      "sigma.Z.0.mixture[2]   3.336e+92  2.209e+94  4.940e+91      2.440e+92\n",
      "\n",
      "2. Quantiles for each variable:\n",
      "\n",
      "                           2.5%        25%      50%        75%       97.5%\n",
      "alpha.YIZ            -7.909e-02  -0.064163 -0.05659 -4.901e-02  -3.461e-02\n",
      "beta.YIZ              2.763e+00   2.819046  2.84864  2.878e+00   2.934e+00\n",
      "gamma.mu.Z.D          4.189e-01   0.498468  0.54222  5.871e-01   6.753e-01\n",
      "gamma.mu.Z.Fz        -1.438e+00  -0.664754 -0.28001  8.238e-02   7.659e-01\n",
      "gamma.sigma.Z.D      -7.512e-01  -0.658993 -0.61004 -5.611e-01  -4.662e-01\n",
      "mu.Z.0               -8.991e+03 -43.353900 -0.49280 -3.330e-01   9.011e+03\n",
      "mu.Z.0.mixture[2]    -2.229e+03 -12.299155 -0.56677 -4.769e-01   9.003e+02\n",
      "pi[1]                 1.750e-04   0.002351  0.50033  9.977e-01   9.998e-01\n",
      "pi[2]                 1.947e-04   0.002317  0.49967  9.976e-01   9.998e-01\n",
      "sigma.YIZ.0           1.047e-01   0.113547  0.11837  1.234e-01   1.336e-01\n",
      "sigma.Z.0             4.850e-01   0.684816  1.23823  8.073e+35  1.142e+127\n",
      "sigma.Z.0.mixture[2]  4.781e-01   0.672671  1.07648  1.333e+29   1.933e+64\n",
      "\n",
      "[1] \"Gelman and Rubin's convergence diagnostic\"\n"
     ]
    },
    {
     "ename": "ERROR",
     "evalue": "Error in chol.default(W): le mineur dominant d'ordre 9 n'est pas défini positif\n",
     "output_type": "error",
     "traceback": [
      "Error in chol.default(W): le mineur dominant d'ordre 9 n'est pas défini positif\nTraceback:\n",
      "1. lira(kt, l, delta.x = kt_err, delta.y = l_err, covariance.xy = covarxy, \n .     z = z, y.threshold = ythresh, time.factor = \"Ez\", gamma.sigma.Z.D = \"dt\", \n .     gamma.YIZ = 0.42, n.chains = 4, n.adapt = 20000, n.iter = 50000, \n .     n.mixture = 2)",
      "2. print(gelman.diag(mcmc.samples))",
      "3. gelman.diag(mcmc.samples)",
      "4. chol(W)",
      "5. chol.default(W)"
     ]
    }
   ],
   "source": [
    "mcmc <- lira(kt, l, delta.x=kt_err, delta.y=l_err, covariance.xy=covarxy, z=z, y.threshold=ythresh, time.factor=\"Ez\", gamma.sigma.Z.D='dt', gamma.YIZ=0.42, n.chains=4.0, n.adapt=2.0e4, n.iter=5.0e4, n.mixture=2)"
   ]
  },
  {
   "cell_type": "code",
   "execution_count": null,
   "metadata": {},
   "outputs": [],
   "source": [
    "#mcmc <- lira(kt, l, delta.x=kt_err, delta.y=l_err, covariance.xy=covarxy, z=z, y.threshold=ythresh, time.factor=\"Ez\", gamma.sigma.Z.D='dt', gamma.YIZ=0.42, n.chains=4.0, n.adapt=100, n.iter=1000)"
   ]
  },
  {
   "cell_type": "markdown",
   "metadata": {},
   "source": [
    "* impossible to put in numerical integrations in public version\n",
    "* LIRA does not deal with normalisations - not possible to use number counts as an external prior\n",
    "* Mauro has private code which works with multiple variables based on LIRA framework\n",
    "    * difficult to implement the Tinker hmf into LIRA as JAGS does not take non-standard functions (such as Gaussians and gamma functions) well\n",
    "    * JAGS is very high performing but is very inflexible\n",
    "\n",
    "* when dimensionality is large mcmc is less efficient than using hamiltonian monte carlo\n",
    "* "
   ]
  },
  {
   "cell_type": "code",
   "execution_count": 2,
   "metadata": {},
   "outputs": [],
   "source": [
    "noras <- read.csv(file='noras_100pc.csv')\n",
    "kt <- log10(noras$kt_obs/5)\n",
    "l <- log10(noras$l_obs/5.0e44)\n",
    "z <- noras$z\n",
    "kt_err <- noras$kt_obs_err\n",
    "l_err <- noras$l_obs_err\n",
    "covarxy <- noras$covarxy\n",
    "ythresh <- log10(noras$ythresh/5.0e44)"
   ]
  },
  {
   "cell_type": "code",
   "execution_count": 5,
   "metadata": {},
   "outputs": [
    {
     "name": "stdout",
     "output_type": "stream",
     "text": [
      "\n",
      "Iterations = 10002:110001\n",
      "Thinning interval = 1 \n",
      "Number of chains = 4 \n",
      "Sample size per chain = 1e+05 \n",
      "\n",
      "1. Empirical mean and standard deviation for each variable,\n",
      "   plus standard error of the mean:\n",
      "\n",
      "                    Mean      SD  Naive SE Time-series SE\n",
      "alpha.YIZ       -0.02083 0.06456 1.021e-04      0.0005571\n",
      "beta.YIZ         2.69229 0.23405 3.701e-04      0.0020153\n",
      "gamma.mu.Z.D     0.62277 0.17985 2.844e-04      0.0074330\n",
      "gamma.mu.Z.Fz    0.76689 3.41950 5.407e-03      0.1169792\n",
      "gamma.sigma.Z.D -0.73963 0.51899 8.206e-04      0.0120238\n",
      "mu.Z.0          -0.34853 0.13241 2.094e-04      0.0045803\n",
      "sigma.YIZ.0      0.12224 0.02133 3.372e-05      0.0001004\n",
      "sigma.Z.0        0.71795 1.57407 2.489e-03      0.0348545\n",
      "\n",
      "2. Quantiles for each variable:\n",
      "\n",
      "                    2.5%      25%      50%      75%    97.5%\n",
      "alpha.YIZ       -0.15032 -0.06281 -0.01997  0.02184  0.10476\n",
      "beta.YIZ         2.23069  2.53889  2.69202  2.84594  3.15434\n",
      "gamma.mu.Z.D     0.14330  0.54713  0.64176  0.72609  0.91739\n",
      "gamma.mu.Z.Fz   -4.25718 -0.63668  0.19901  1.31660 11.06805\n",
      "gamma.sigma.Z.D -1.82708 -1.07420 -0.71334 -0.37576  0.20302\n",
      "mu.Z.0          -0.58773 -0.43193 -0.35723 -0.27683 -0.04229\n",
      "sigma.YIZ.0      0.08612  0.10720  0.12031  0.13514  0.16958\n",
      "sigma.Z.0        0.04845  0.16186  0.33171  0.72030  3.72749\n",
      "\n",
      "[1] \"Gelman and Rubin's convergence diagnostic\"\n",
      "Potential scale reduction factors:\n",
      "\n",
      "                Point est. Upper C.I.\n",
      "alpha.YIZ             1.00       1.00\n",
      "beta.YIZ              1.00       1.00\n",
      "gamma.mu.Z.D          1.03       1.08\n",
      "gamma.mu.Z.Fz         1.04       1.08\n",
      "gamma.sigma.Z.D       1.01       1.02\n",
      "mu.Z.0                1.02       1.06\n",
      "sigma.YIZ.0           1.00       1.00\n",
      "sigma.Z.0             1.01       1.01\n",
      "\n",
      "Multivariate psrf\n",
      "\n",
      "1.02\n"
     ]
    }
   ],
   "source": [
    "mcmc <- lira(kt, l, delta.x=kt_err, delta.y=l_err, covariance.xy=covarxy, z=z, y.threshold=ythresh, time.factor=\"Ez\", gamma.sigma.Z.D='dt', gamma.YIZ=0.42, n.chains=4.0, n.adapt=10000, n.iter=1.0e5)"
   ]
  },
  {
   "cell_type": "code",
   "execution_count": 8,
   "metadata": {},
   "outputs": [],
   "source": [
    "noras <- read.csv(file='noras_90pc.csv')\n",
    "kt <- log10(noras$kt_obs/5)\n",
    "l <- log10(noras$l_obs/5.0e44)\n",
    "z <- noras$z\n",
    "kt_err <- noras$kt_obs_err\n",
    "l_err <- noras$l_obs_err\n",
    "covarxy <- noras$covarxy\n",
    "ythresh <- log10(noras$ythresh/5.0e44)"
   ]
  },
  {
   "cell_type": "code",
   "execution_count": 9,
   "metadata": {},
   "outputs": [
    {
     "name": "stdout",
     "output_type": "stream",
     "text": [
      "\n",
      "Iterations = 10002:110001\n",
      "Thinning interval = 1 \n",
      "Number of chains = 4 \n",
      "Sample size per chain = 1e+05 \n",
      "\n",
      "1. Empirical mean and standard deviation for each variable,\n",
      "   plus standard error of the mean:\n",
      "\n",
      "                    Mean      SD  Naive SE Time-series SE\n",
      "alpha.YIZ       -0.05736 0.05522 8.732e-05      4.976e-04\n",
      "beta.YIZ         2.85162 0.19316 3.054e-04      1.738e-03\n",
      "gamma.mu.Z.D     0.59912 0.25462 4.026e-04      1.809e-02\n",
      "gamma.mu.Z.Fz   -2.84999 4.66275 7.372e-03      3.062e-01\n",
      "gamma.sigma.Z.D -0.52284 0.29392 4.647e-04      4.975e-03\n",
      "mu.Z.0          -0.28967 0.17378 2.748e-04      1.063e-02\n",
      "sigma.YIZ.0      0.11999 0.01754 2.773e-05      8.108e-05\n",
      "sigma.Z.0        0.31676 0.24769 3.916e-04      3.990e-03\n",
      "\n",
      "2. Quantiles for each variable:\n",
      "\n",
      "                     2.5%      25%      50%      75%    97.5%\n",
      "alpha.YIZ        -0.16901 -0.09366 -0.05621 -0.01999  0.04818\n",
      "beta.YIZ          2.47624  2.72240  2.84959  2.97893  3.23890\n",
      "gamma.mu.Z.D      0.28487  0.43364  0.52185  0.68809  1.29570\n",
      "gamma.mu.Z.Fz   -15.76792 -4.36847 -1.04914  0.06533  2.27786\n",
      "gamma.sigma.Z.D  -1.10475 -0.72183 -0.51920 -0.32204  0.04505\n",
      "mu.Z.0           -0.75233 -0.36105 -0.24996 -0.17404 -0.04639\n",
      "sigma.YIZ.0       0.08963  0.10765  0.11860  0.13079  0.15827\n",
      "sigma.Z.0         0.06919  0.15750  0.24729  0.39529  0.97792\n",
      "\n",
      "[1] \"Gelman and Rubin's convergence diagnostic\"\n",
      "Potential scale reduction factors:\n",
      "\n",
      "                Point est. Upper C.I.\n",
      "alpha.YIZ             1.00       1.00\n",
      "beta.YIZ              1.00       1.00\n",
      "gamma.mu.Z.D          1.04       1.11\n",
      "gamma.mu.Z.Fz         1.04       1.10\n",
      "gamma.sigma.Z.D       1.00       1.01\n",
      "mu.Z.0                1.04       1.10\n",
      "sigma.YIZ.0           1.00       1.00\n",
      "sigma.Z.0             1.00       1.01\n",
      "\n",
      "Multivariate psrf\n",
      "\n",
      "1.03\n"
     ]
    }
   ],
   "source": [
    "mcmc <- lira(kt, l, delta.x=kt_err, delta.y=l_err, covariance.xy=covarxy, z=z, y.threshold=ythresh, time.factor=\"Ez\", gamma.sigma.Z.D='dt', gamma.YIZ=0.42, n.chains=4.0, n.adapt=10000, n.iter=1.0e5)"
   ]
  },
  {
   "cell_type": "code",
   "execution_count": 11,
   "metadata": {},
   "outputs": [],
   "source": [
    "noras <- read.csv(file='noras_80pc.csv')\n",
    "kt <- log10(noras$kt_obs/5)\n",
    "l <- log10(noras$l_obs/5.0e44)\n",
    "z <- noras$z\n",
    "kt_err <- noras$kt_obs_err\n",
    "l_err <- noras$l_obs_err\n",
    "covarxy <- noras$covarxy\n",
    "ythresh <- log10(noras$ythresh/5.0e44)"
   ]
  },
  {
   "cell_type": "code",
   "execution_count": 12,
   "metadata": {},
   "outputs": [
    {
     "name": "stdout",
     "output_type": "stream",
     "text": [
      "\n",
      "Iterations = 10002:110001\n",
      "Thinning interval = 1 \n",
      "Number of chains = 4 \n",
      "Sample size per chain = 1e+05 \n",
      "\n",
      "1. Empirical mean and standard deviation for each variable,\n",
      "   plus standard error of the mean:\n",
      "\n",
      "                    Mean      SD  Naive SE Time-series SE\n",
      "alpha.YIZ       -0.02755 0.03479 5.500e-05      2.252e-04\n",
      "beta.YIZ         2.74697 0.13091 2.070e-04      8.501e-04\n",
      "gamma.mu.Z.D     0.53269 0.13861 2.192e-04      4.788e-03\n",
      "gamma.mu.Z.Fz   -0.13287 2.11570 3.345e-03      6.145e-02\n",
      "gamma.sigma.Z.D -0.57293 0.24573 3.885e-04      4.068e-03\n",
      "mu.Z.0          -0.31785 0.11095 1.754e-04      3.422e-03\n",
      "sigma.YIZ.0      0.11939 0.01501 2.373e-05      6.823e-05\n",
      "sigma.Z.0        0.44902 0.28542 4.513e-04      4.474e-03\n",
      "\n",
      "2. Quantiles for each variable:\n",
      "\n",
      "                    2.5%      25%      50%       75%    97.5%\n",
      "alpha.YIZ       -0.09717 -0.05054 -0.02707 -0.004158  0.03966\n",
      "beta.YIZ         2.49009  2.65967  2.74644  2.833847  3.00585\n",
      "gamma.mu.Z.D     0.24419  0.45916  0.53134  0.602976  0.82872\n",
      "gamma.mu.Z.Fz   -4.92838 -0.91657 -0.06657  0.731032  4.35791\n",
      "gamma.sigma.Z.D -1.05328 -0.73813 -0.57354 -0.407523 -0.09275\n",
      "mu.Z.0          -0.54372 -0.38212 -0.31785 -0.252374 -0.09149\n",
      "sigma.YIZ.0      0.09276  0.10890  0.11842  0.128838  0.15153\n",
      "sigma.Z.0        0.12615  0.25763  0.37873  0.557466  1.18485\n",
      "\n",
      "[1] \"Gelman and Rubin's convergence diagnostic\"\n",
      "Potential scale reduction factors:\n",
      "\n",
      "                Point est. Upper C.I.\n",
      "alpha.YIZ             1.00       1.00\n",
      "beta.YIZ              1.00       1.00\n",
      "gamma.mu.Z.D          1.01       1.02\n",
      "gamma.mu.Z.Fz         1.01       1.02\n",
      "gamma.sigma.Z.D       1.00       1.01\n",
      "mu.Z.0                1.01       1.01\n",
      "sigma.YIZ.0           1.00       1.00\n",
      "sigma.Z.0             1.00       1.01\n",
      "\n",
      "Multivariate psrf\n",
      "\n",
      "1\n"
     ]
    }
   ],
   "source": [
    "mcmc <- lira(kt, l, delta.x=kt_err, delta.y=l_err, covariance.xy=covarxy, z=z, y.threshold=ythresh, time.factor=\"Ez\", gamma.sigma.Z.D='dt', gamma.YIZ=0.42, n.chains=4.0, n.adapt=10000, n.iter=1.0e5)"
   ]
  },
  {
   "cell_type": "code",
   "execution_count": 13,
   "metadata": {},
   "outputs": [],
   "source": [
    "noras <- read.csv(file='noras_70pc.csv')\n",
    "kt <- log10(noras$kt_obs/5)\n",
    "l <- log10(noras$l_obs/5.0e44)\n",
    "z <- noras$z\n",
    "kt_err <- noras$kt_obs_err\n",
    "l_err <- noras$l_obs_err\n",
    "covarxy <- noras$covarxy\n",
    "ythresh <- log10(noras$ythresh/5.0e44)"
   ]
  },
  {
   "cell_type": "code",
   "execution_count": 14,
   "metadata": {},
   "outputs": [
    {
     "name": "stdout",
     "output_type": "stream",
     "text": [
      "\n",
      "Iterations = 10002:110001\n",
      "Thinning interval = 1 \n",
      "Number of chains = 4 \n",
      "Sample size per chain = 1e+05 \n",
      "\n",
      "1. Empirical mean and standard deviation for each variable,\n",
      "   plus standard error of the mean:\n",
      "\n",
      "                    Mean      SD  Naive SE Time-series SE\n",
      "alpha.YIZ       -0.02026 0.02229 3.525e-05      0.0001314\n",
      "beta.YIZ         2.72791 0.08641 1.366e-04      0.0005156\n",
      "gamma.mu.Z.D     0.43535 0.12850 2.032e-04      0.0046736\n",
      "gamma.mu.Z.Fz    0.54125 1.77669 2.809e-03      0.0538591\n",
      "gamma.sigma.Z.D -0.51412 0.17939 2.836e-04      0.0029420\n",
      "mu.Z.0          -0.29400 0.10716 1.694e-04      0.0035596\n",
      "sigma.YIZ.0      0.10587 0.01066 1.686e-05      0.0000470\n",
      "sigma.Z.0        0.47411 0.22848 3.613e-04      0.0036551\n",
      "\n",
      "2. Quantiles for each variable:\n",
      "\n",
      "                    2.5%      25%      50%       75%    97.5%\n",
      "alpha.YIZ       -0.06453 -0.03516 -0.02004 -0.005176  0.02290\n",
      "beta.YIZ         2.55918  2.66975  2.72776  2.785845  2.89805\n",
      "gamma.mu.Z.D     0.13902  0.37176  0.44458  0.511106  0.66115\n",
      "gamma.mu.Z.Fz   -2.57735 -0.38768  0.32091  1.242167  4.88058\n",
      "gamma.sigma.Z.D -0.86398 -0.63486 -0.51555 -0.392942 -0.16166\n",
      "mu.Z.0          -0.48952 -0.36097 -0.29851 -0.233392 -0.06347\n",
      "sigma.YIZ.0      0.08665  0.09843  0.10531  0.112666  0.12839\n",
      "sigma.Z.0        0.17921  0.31519  0.42756  0.577816  1.04286\n",
      "\n",
      "[1] \"Gelman and Rubin's convergence diagnostic\"\n",
      "Potential scale reduction factors:\n",
      "\n",
      "                Point est. Upper C.I.\n",
      "alpha.YIZ             1.00       1.00\n",
      "beta.YIZ              1.00       1.00\n",
      "gamma.mu.Z.D          1.01       1.02\n",
      "gamma.mu.Z.Fz         1.01       1.02\n",
      "gamma.sigma.Z.D       1.00       1.01\n",
      "mu.Z.0                1.01       1.01\n",
      "sigma.YIZ.0           1.00       1.00\n",
      "sigma.Z.0             1.01       1.01\n",
      "\n",
      "Multivariate psrf\n",
      "\n",
      "1.01\n"
     ]
    }
   ],
   "source": [
    "mcmc <- lira(kt, l, delta.x=kt_err, delta.y=l_err, covariance.xy=covarxy, z=z, y.threshold=ythresh, time.factor=\"Ez\", gamma.sigma.Z.D='dt', gamma.YIZ=0.42, n.chains=4.0, n.adapt=10000, n.iter=1.0e5)"
   ]
  },
  {
   "cell_type": "code",
   "execution_count": 15,
   "metadata": {},
   "outputs": [],
   "source": [
    "noras <- read.csv(file='noras_60pc.csv')\n",
    "kt <- log10(noras$kt_obs/5)\n",
    "l <- log10(noras$l_obs/5.0e44)\n",
    "z <- noras$z\n",
    "kt_err <- noras$kt_obs_err\n",
    "l_err <- noras$l_obs_err\n",
    "covarxy <- noras$covarxy\n",
    "ythresh <- log10(noras$ythresh/5.0e44)"
   ]
  },
  {
   "cell_type": "code",
   "execution_count": 16,
   "metadata": {},
   "outputs": [
    {
     "name": "stdout",
     "output_type": "stream",
     "text": [
      "\n",
      "Iterations = 10002:110001\n",
      "Thinning interval = 1 \n",
      "Number of chains = 4 \n",
      "Sample size per chain = 1e+05 \n",
      "\n",
      "1. Empirical mean and standard deviation for each variable,\n",
      "   plus standard error of the mean:\n",
      "\n",
      "                    Mean      SD  Naive SE Time-series SE\n",
      "alpha.YIZ       -0.04617 0.02044 3.231e-05      1.201e-04\n",
      "beta.YIZ         2.83947 0.07890 1.247e-04      4.610e-04\n",
      "gamma.mu.Z.D     0.41723 0.09487 1.500e-04      3.027e-03\n",
      "gamma.mu.Z.Fz    0.44249 0.99874 1.579e-03      2.568e-02\n",
      "gamma.sigma.Z.D -0.58270 0.15743 2.489e-04      2.528e-03\n",
      "mu.Z.0          -0.29074 0.08850 1.399e-04      2.679e-03\n",
      "sigma.YIZ.0      0.10590 0.01003 1.586e-05      4.583e-05\n",
      "sigma.Z.0        0.56969 0.24391 3.857e-04      3.797e-03\n",
      "\n",
      "2. Quantiles for each variable:\n",
      "\n",
      "                    2.5%      25%      50%      75%     97.5%\n",
      "alpha.YIZ       -0.08672 -0.05986 -0.04599 -0.03237 -0.006564\n",
      "beta.YIZ         2.68583  2.78639  2.83924  2.89238  2.995235\n",
      "gamma.mu.Z.D     0.21437  0.35942  0.42230  0.47931  0.593920\n",
      "gamma.mu.Z.Fz   -1.40014 -0.18548  0.35970  1.00499  2.674406\n",
      "gamma.sigma.Z.D -0.89415 -0.68888 -0.58227 -0.47631 -0.277375\n",
      "mu.Z.0          -0.45909 -0.34947 -0.29333 -0.23463 -0.108357\n",
      "sigma.YIZ.0      0.08763  0.09891  0.10542  0.11239  0.126917\n",
      "sigma.Z.0        0.24192  0.39843  0.52199  0.68739  1.178650\n",
      "\n",
      "[1] \"Gelman and Rubin's convergence diagnostic\"\n",
      "Potential scale reduction factors:\n",
      "\n",
      "                Point est. Upper C.I.\n",
      "alpha.YIZ                1       1.00\n",
      "beta.YIZ                 1       1.00\n",
      "gamma.mu.Z.D             1       1.01\n",
      "gamma.mu.Z.Fz            1       1.01\n",
      "gamma.sigma.Z.D          1       1.01\n",
      "mu.Z.0                   1       1.01\n",
      "sigma.YIZ.0              1       1.00\n",
      "sigma.Z.0                1       1.01\n",
      "\n",
      "Multivariate psrf\n",
      "\n",
      "1\n"
     ]
    }
   ],
   "source": [
    "mcmc <- lira(kt, l, delta.x=kt_err, delta.y=l_err, covariance.xy=covarxy, z=z, y.threshold=ythresh, time.factor=\"Ez\", gamma.sigma.Z.D='dt', gamma.YIZ=0.42, n.chains=4.0, n.adapt=10000, n.iter=1.0e5)"
   ]
  },
  {
   "cell_type": "code",
   "execution_count": 17,
   "metadata": {},
   "outputs": [],
   "source": [
    "noras <- read.csv(file='noras_50pc.csv')\n",
    "kt <- log10(noras$kt_obs/5)\n",
    "l <- log10(noras$l_obs/5.0e44)\n",
    "z <- noras$z\n",
    "kt_err <- noras$kt_obs_err\n",
    "l_err <- noras$l_obs_err\n",
    "covarxy <- noras$covarxy\n",
    "ythresh <- log10(noras$ythresh/5.0e44)"
   ]
  },
  {
   "cell_type": "code",
   "execution_count": 19,
   "metadata": {},
   "outputs": [
    {
     "name": "stdout",
     "output_type": "stream",
     "text": [
      "\n",
      "Iterations = 10002:110001\n",
      "Thinning interval = 1 \n",
      "Number of chains = 4 \n",
      "Sample size per chain = 1e+05 \n",
      "\n",
      "1. Empirical mean and standard deviation for each variable,\n",
      "   plus standard error of the mean:\n",
      "\n",
      "                   Mean       SD  Naive SE Time-series SE\n",
      "alpha.YIZ       -0.0434 0.019212 3.038e-05      1.135e-04\n",
      "beta.YIZ         2.8458 0.073805 1.167e-04      4.304e-04\n",
      "gamma.mu.Z.D     0.3864 0.097145 1.536e-04      3.154e-03\n",
      "gamma.mu.Z.Fz    0.5180 0.977987 1.546e-03      2.652e-02\n",
      "gamma.sigma.Z.D -0.5064 0.144042 2.277e-04      2.237e-03\n",
      "mu.Z.0          -0.2700 0.090859 1.437e-04      2.774e-03\n",
      "sigma.YIZ.0      0.1038 0.009703 1.534e-05      4.536e-05\n",
      "sigma.Z.0        0.4944 0.195583 3.092e-04      2.950e-03\n",
      "\n",
      "2. Quantiles for each variable:\n",
      "\n",
      "                    2.5%      25%      50%      75%     97.5%\n",
      "alpha.YIZ       -0.08151 -0.05620 -0.04323 -0.03041 -0.006146\n",
      "beta.YIZ         2.70157  2.79616  2.84567  2.89500  2.991103\n",
      "gamma.mu.Z.D     0.16987  0.32950  0.39362  0.45095  0.559509\n",
      "gamma.mu.Z.Fz   -1.20735 -0.11548  0.41844  1.05866  2.766355\n",
      "gamma.sigma.Z.D -0.78796 -0.60319 -0.50664 -0.40931 -0.223441\n",
      "mu.Z.0          -0.43598 -0.33125 -0.27469 -0.21442 -0.073834\n",
      "sigma.YIZ.0      0.08604  0.09706  0.10337  0.11002  0.124067\n",
      "sigma.Z.0        0.22157  0.35639  0.45905  0.59206  0.968701\n",
      "\n",
      "[1] \"Gelman and Rubin's convergence diagnostic\"\n",
      "Potential scale reduction factors:\n",
      "\n",
      "                Point est. Upper C.I.\n",
      "alpha.YIZ                1       1.00\n",
      "beta.YIZ                 1       1.00\n",
      "gamma.mu.Z.D             1       1.01\n",
      "gamma.mu.Z.Fz            1       1.01\n",
      "gamma.sigma.Z.D          1       1.00\n",
      "mu.Z.0                   1       1.01\n",
      "sigma.YIZ.0              1       1.00\n",
      "sigma.Z.0                1       1.00\n",
      "\n",
      "Multivariate psrf\n",
      "\n",
      "1\n"
     ]
    }
   ],
   "source": [
    "mcmc <- lira(kt, l, delta.x=kt_err, delta.y=l_err, covariance.xy=covarxy, z=z, y.threshold=ythresh, time.factor=\"Ez\", gamma.sigma.Z.D='dt', gamma.YIZ=0.42, n.chains=4.0, n.adapt=10000, n.iter=1.0e5)"
   ]
  },
  {
   "cell_type": "code",
   "execution_count": 20,
   "metadata": {},
   "outputs": [],
   "source": [
    "noras <- read.csv(file='noras_45pc.csv')\n",
    "kt <- log10(noras$kt_obs/5)\n",
    "l <- log10(noras$l_obs/5.0e44)\n",
    "z <- noras$z\n",
    "kt_err <- noras$kt_obs_err\n",
    "l_err <- noras$l_obs_err\n",
    "covarxy <- noras$covarxy\n",
    "ythresh <- log10(noras$ythresh/5.0e44)"
   ]
  },
  {
   "cell_type": "code",
   "execution_count": 21,
   "metadata": {},
   "outputs": [
    {
     "name": "stdout",
     "output_type": "stream",
     "text": [
      "\n",
      "Iterations = 10002:110001\n",
      "Thinning interval = 1 \n",
      "Number of chains = 4 \n",
      "Sample size per chain = 1e+05 \n",
      "\n",
      "1. Empirical mean and standard deviation for each variable,\n",
      "   plus standard error of the mean:\n",
      "\n",
      "                   Mean       SD  Naive SE Time-series SE\n",
      "alpha.YIZ       -0.0440 0.017187 2.717e-05      9.375e-05\n",
      "beta.YIZ         2.8538 0.065695 1.039e-04      3.513e-04\n",
      "gamma.mu.Z.D     0.4301 0.093737 1.482e-04      2.881e-03\n",
      "gamma.mu.Z.Fz    0.1232 0.898015 1.420e-03      2.267e-02\n",
      "gamma.sigma.Z.D -0.5395 0.134242 2.123e-04      1.984e-03\n",
      "mu.Z.0          -0.3222 0.089701 1.418e-04      2.595e-03\n",
      "sigma.YIZ.0      0.1017 0.009376 1.482e-05      4.394e-05\n",
      "sigma.Z.0        0.5776 0.212973 3.367e-04      3.103e-03\n",
      "\n",
      "2. Quantiles for each variable:\n",
      "\n",
      "                    2.5%      25%      50%      75%    97.5%\n",
      "alpha.YIZ       -0.07828 -0.05546 -0.04377 -0.03241 -0.01076\n",
      "beta.YIZ         2.72512  2.80964  2.85353  2.89776  2.98332\n",
      "gamma.mu.Z.D     0.24028  0.37207  0.43110  0.48898  0.61658\n",
      "gamma.mu.Z.Fz   -1.67149 -0.42000  0.10113  0.64841  1.99754\n",
      "gamma.sigma.Z.D -0.80550 -0.62922 -0.53926 -0.44972 -0.27638\n",
      "mu.Z.0          -0.50012 -0.37999 -0.32260 -0.26459 -0.14337\n",
      "sigma.YIZ.0      0.08456  0.09515  0.10124  0.10771  0.12130\n",
      "sigma.Z.0        0.27457  0.42814  0.54057  0.68507  1.09959\n",
      "\n",
      "[1] \"Gelman and Rubin's convergence diagnostic\"\n",
      "Potential scale reduction factors:\n",
      "\n",
      "                Point est. Upper C.I.\n",
      "alpha.YIZ                1       1.00\n",
      "beta.YIZ                 1       1.00\n",
      "gamma.mu.Z.D             1       1.00\n",
      "gamma.mu.Z.Fz            1       1.00\n",
      "gamma.sigma.Z.D          1       1.01\n",
      "mu.Z.0                   1       1.00\n",
      "sigma.YIZ.0              1       1.00\n",
      "sigma.Z.0                1       1.01\n",
      "\n",
      "Multivariate psrf\n",
      "\n",
      "1\n"
     ]
    }
   ],
   "source": [
    "mcmc <- lira(kt, l, delta.x=kt_err, delta.y=l_err, covariance.xy=covarxy, z=z, y.threshold=ythresh, time.factor=\"Ez\", gamma.sigma.Z.D='dt', gamma.YIZ=0.42, n.chains=4.0, n.adapt=10000, n.iter=1.0e5)"
   ]
  },
  {
   "cell_type": "code",
   "execution_count": 2,
   "metadata": {},
   "outputs": [],
   "source": [
    "all <- read.csv(file='all_fake_for_lira.csv')\n",
    "kt <- log10(all$kt_obs/5)\n",
    "l <- log10(all$l_obs/5.0e44)\n",
    "z <- all$z\n",
    "kt_err <- all$kt_obs_err\n",
    "l_err <- all$l_obs_err\n",
    "covarxy <- all$covarxy\n",
    "ythresh <- log10(all$y_thresh/5.0e44)"
   ]
  },
  {
   "cell_type": "code",
   "execution_count": 38,
   "metadata": {},
   "outputs": [
    {
     "name": "stdout",
     "output_type": "stream",
     "text": [
      "\n",
      "Iterations = 10002:110001\n",
      "Thinning interval = 1 \n",
      "Number of chains = 4 \n",
      "Sample size per chain = 1e+05 \n",
      "\n",
      "1. Empirical mean and standard deviation for each variable,\n",
      "   plus standard error of the mean:\n",
      "\n",
      "                    Mean       SD  Naive SE Time-series SE\n",
      "alpha.YIZ       -0.04565 0.008975 1.419e-05      4.036e-05\n",
      "beta.YIZ         2.86007 0.033545 5.304e-05      1.509e-04\n",
      "gamma.mu.Z.D     0.56451 0.065215 1.031e-04      1.916e-03\n",
      "gamma.mu.Z.Fz   -2.53031 0.457592 7.235e-04      1.216e-02\n",
      "gamma.sigma.Z.D -0.21256 0.043994 6.956e-05      4.268e-04\n",
      "mu.Z.0          -0.44776 0.065446 1.035e-04      1.837e-03\n",
      "sigma.YIZ.0      0.11001 0.005710 9.028e-06      2.636e-05\n",
      "sigma.Z.0        0.32428 0.043392 6.861e-05      4.145e-04\n",
      "\n",
      "2. Quantiles for each variable:\n",
      "\n",
      "                    2.5%      25%      50%     75%    97.5%\n",
      "alpha.YIZ       -0.06330 -0.05169 -0.04564 -0.0396 -0.02808\n",
      "beta.YIZ         2.79427  2.83753  2.86010  2.8827  2.92589\n",
      "gamma.mu.Z.D     0.43515  0.52129  0.56435  0.6077  0.69323\n",
      "gamma.mu.Z.Fz   -3.43310 -2.83480 -2.52953 -2.2244 -1.62881\n",
      "gamma.sigma.Z.D -0.29803 -0.24245 -0.21275 -0.1828 -0.12599\n",
      "mu.Z.0          -0.57654 -0.49127 -0.44773 -0.4045 -0.31802\n",
      "sigma.YIZ.0      0.09926  0.10607  0.10986  0.1138  0.12156\n",
      "sigma.Z.0        0.24836  0.29362  0.32120  0.3516  0.41767\n",
      "\n",
      "[1] \"Gelman and Rubin's convergence diagnostic\"\n",
      "Potential scale reduction factors:\n",
      "\n",
      "                Point est. Upper C.I.\n",
      "alpha.YIZ                1       1.00\n",
      "beta.YIZ                 1       1.00\n",
      "gamma.mu.Z.D             1       1.01\n",
      "gamma.mu.Z.Fz            1       1.01\n",
      "gamma.sigma.Z.D          1       1.00\n",
      "mu.Z.0                   1       1.01\n",
      "sigma.YIZ.0              1       1.00\n",
      "sigma.Z.0                1       1.00\n",
      "\n",
      "Multivariate psrf\n",
      "\n",
      "1\n"
     ]
    }
   ],
   "source": [
    "mcmc <- lira(kt, l, delta.x=kt_err, delta.y=l_err, covariance.xy=covarxy, z=z, y.threshold=ythresh, time.factor=\"Ez\", gamma.sigma.Z.D='dt', gamma.YIZ=0.42, n.chains=4.0, n.adapt=10000, n.iter=1.0e5)"
   ]
  },
  {
   "cell_type": "code",
   "execution_count": 23,
   "metadata": {},
   "outputs": [],
   "source": [
    "all <- read.csv(file='../data/real_for_fit.csv')\n",
    "kt <- log10(all$kt/5)\n",
    "l <- log10(all$l/5.0e44)\n",
    "z <- all$z\n",
    "kt_err <- all$kt_err\n",
    "l_err <- all$l_err\n",
    "covarxy <- all$covarxy\n",
    "ythresh <- log10(all$y_thresh/5.0e44)"
   ]
  },
  {
   "cell_type": "code",
   "execution_count": 24,
   "metadata": {},
   "outputs": [
    {
     "name": "stdout",
     "output_type": "stream",
     "text": [
      "\n",
      "Iterations = 10002:110001\n",
      "Thinning interval = 1 \n",
      "Number of chains = 4 \n",
      "Sample size per chain = 1e+05 \n",
      "\n",
      "1. Empirical mean and standard deviation for each variable,\n",
      "   plus standard error of the mean:\n",
      "\n",
      "                    Mean      SD  Naive SE Time-series SE\n",
      "alpha.YIZ       -0.31590 0.01756 2.776e-05      5.492e-05\n",
      "beta.YIZ         2.54345 0.07364 1.164e-04      2.118e-04\n",
      "gamma.mu.Z.D     0.60921 0.08362 1.322e-04      2.539e-03\n",
      "gamma.mu.Z.Fz   -3.44145 0.78073 1.234e-03      2.086e-02\n",
      "gamma.sigma.Z.D -0.06332 0.04946 7.820e-05      4.872e-04\n",
      "mu.Z.0          -0.55468 0.07644 1.209e-04      2.216e-03\n",
      "sigma.YIZ.0      0.22478 0.01194 1.888e-05      4.028e-05\n",
      "sigma.Z.0        0.21250 0.03137 4.959e-05      3.028e-04\n",
      "\n",
      "2. Quantiles for each variable:\n",
      "\n",
      "                   2.5%      25%      50%     75%    97.5%\n",
      "alpha.YIZ       -0.3515 -0.32747 -0.31553 -0.3039 -0.28256\n",
      "beta.YIZ         2.3992  2.49397  2.54331  2.5928  2.68816\n",
      "gamma.mu.Z.D     0.4441  0.55248  0.61013  0.6665  0.77059\n",
      "gamma.mu.Z.Fz   -4.9467 -3.97312 -3.44976 -2.9124 -1.89940\n",
      "gamma.sigma.Z.D -0.1606 -0.09655 -0.06332 -0.0299  0.03338\n",
      "mu.Z.0          -0.7027 -0.60675 -0.55518 -0.5031 -0.40360\n",
      "sigma.YIZ.0      0.2028  0.21651  0.22432  0.2325  0.24950\n",
      "sigma.Z.0        0.1586  0.19036  0.20995  0.2317  0.28119\n",
      "\n",
      "[1] \"Gelman and Rubin's convergence diagnostic\"\n",
      "Potential scale reduction factors:\n",
      "\n",
      "                Point est. Upper C.I.\n",
      "alpha.YIZ             1.00       1.00\n",
      "beta.YIZ              1.00       1.00\n",
      "gamma.mu.Z.D          1.01       1.02\n",
      "gamma.mu.Z.Fz         1.00       1.01\n",
      "gamma.sigma.Z.D       1.00       1.00\n",
      "mu.Z.0                1.01       1.02\n",
      "sigma.YIZ.0           1.00       1.00\n",
      "sigma.Z.0             1.00       1.00\n",
      "\n",
      "Multivariate psrf\n",
      "\n",
      "1\n"
     ]
    }
   ],
   "source": [
    "mcmc <- lira(kt, l, delta.x=kt_err, delta.y=l_err, covariance.xy=covarxy, z=z, y.threshold=ythresh, time.factor=\"Ez\", gamma.sigma.Z.D='dt', gamma.YIZ=0.42, n.chains=4.0, n.adapt=10000, n.iter=1.0e5)"
   ]
  },
  {
   "cell_type": "code",
   "execution_count": 25,
   "metadata": {},
   "outputs": [
    {
     "name": "stdout",
     "output_type": "stream",
     "text": [
      "\n",
      "Iterations = 10002:110001\n",
      "Thinning interval = 1 \n",
      "Number of chains = 4 \n",
      "Sample size per chain = 1e+05 \n",
      "\n",
      "1. Empirical mean and standard deviation for each variable,\n",
      "   plus standard error of the mean:\n",
      "\n",
      "                    Mean      SD  Naive SE Time-series SE\n",
      "alpha.YIZ       -0.33043 0.01690 2.673e-05      5.283e-05\n",
      "beta.YIZ         2.51181 0.07132 1.128e-04      2.088e-04\n",
      "gamma.mu.Z.D     0.61696 0.08334 1.318e-04      2.520e-03\n",
      "gamma.mu.Z.Fz   -3.55453 0.77963 1.233e-03      2.066e-02\n",
      "gamma.sigma.Z.D -0.06225 0.04951 7.828e-05      4.898e-04\n",
      "mu.Z.0          -0.56044 0.07617 1.204e-04      2.196e-03\n",
      "sigma.YIZ.0      0.21788 0.01154 1.824e-05      3.808e-05\n",
      "sigma.Z.0        0.21244 0.03136 4.958e-05      3.043e-04\n",
      "\n",
      "2. Quantiles for each variable:\n",
      "\n",
      "                   2.5%     25%      50%      75%    97.5%\n",
      "alpha.YIZ       -0.3647 -0.3415 -0.33004 -0.31885 -0.29848\n",
      "beta.YIZ         2.3724  2.4639  2.51157  2.55960  2.65201\n",
      "gamma.mu.Z.D     0.4506  0.5624  0.61745  0.67357  0.77737\n",
      "gamma.mu.Z.Fz   -5.0608 -4.0793 -3.56346 -3.03742 -1.99993\n",
      "gamma.sigma.Z.D -0.1593 -0.0957 -0.06218 -0.02882  0.03445\n",
      "mu.Z.0          -0.7077 -0.6121 -0.56084 -0.51021 -0.40882\n",
      "sigma.YIZ.0      0.1966  0.2099  0.21742  0.22535  0.24179\n",
      "sigma.Z.0        0.1584  0.1903  0.20989  0.23190  0.28091\n",
      "\n",
      "[1] \"Gelman and Rubin's convergence diagnostic\"\n",
      "Potential scale reduction factors:\n",
      "\n",
      "                Point est. Upper C.I.\n",
      "alpha.YIZ                1       1.00\n",
      "beta.YIZ                 1       1.00\n",
      "gamma.mu.Z.D             1       1.01\n",
      "gamma.mu.Z.Fz            1       1.01\n",
      "gamma.sigma.Z.D          1       1.00\n",
      "mu.Z.0                   1       1.01\n",
      "sigma.YIZ.0              1       1.00\n",
      "sigma.Z.0                1       1.00\n",
      "\n",
      "Multivariate psrf\n",
      "\n",
      "1\n"
     ]
    }
   ],
   "source": [
    "mcmc <- lira(kt, l, delta.x=kt_err, delta.y=l_err, covariance.xy=covarxy, z=z, y.threshold=ythresh, time.factor=\"Ez\", gamma.sigma.Z.D='dt', gamma.YIZ=1.0, n.chains=4.0, n.adapt=10000, n.iter=1.0e5)"
   ]
  },
  {
   "cell_type": "code",
   "execution_count": 26,
   "metadata": {},
   "outputs": [
    {
     "name": "stdout",
     "output_type": "stream",
     "text": [
      "\n",
      "Iterations = 10002:110001\n",
      "Thinning interval = 1 \n",
      "Number of chains = 4 \n",
      "Sample size per chain = 1e+05 \n",
      "\n",
      "1. Empirical mean and standard deviation for each variable,\n",
      "   plus standard error of the mean:\n",
      "\n",
      "                    Mean      SD  Naive SE Time-series SE\n",
      "alpha.YIZ       -0.37410 0.02161 3.417e-05      9.896e-05\n",
      "beta.YIZ         2.43245 0.07088 1.121e-04      2.304e-04\n",
      "gamma.YIZ        2.51885 0.46734 7.389e-04      2.398e-03\n",
      "gamma.mu.Z.D     0.63579 0.08490 1.342e-04      2.573e-03\n",
      "gamma.mu.Z.Fz   -3.86980 0.79544 1.258e-03      2.162e-02\n",
      "gamma.sigma.Z.D -0.05627 0.04907 7.759e-05      4.802e-04\n",
      "mu.Z.0          -0.57307 0.07757 1.227e-04      2.275e-03\n",
      "sigma.YIZ.0      0.20695 0.01118 1.768e-05      3.892e-05\n",
      "sigma.Z.0        0.21047 0.03082 4.873e-05      2.945e-04\n",
      "\n",
      "2. Quantiles for each variable:\n",
      "\n",
      "                   2.5%      25%      50%     75%    97.5%\n",
      "alpha.YIZ       -0.4171 -0.38850 -0.37388 -0.3595 -0.33233\n",
      "beta.YIZ         2.2950  2.38469  2.43202  2.4796  2.57286\n",
      "gamma.YIZ        1.5802  2.20927  2.52596  2.8350  3.41693\n",
      "gamma.mu.Z.D     0.4689  0.57863  0.63480  0.6928  0.80283\n",
      "gamma.mu.Z.Fz   -5.4259 -4.40591 -3.86549 -3.3387 -2.29412\n",
      "gamma.sigma.Z.D -0.1522 -0.08926 -0.05648 -0.0233  0.04012\n",
      "mu.Z.0          -0.7259 -0.62519 -0.57217 -0.5208 -0.42176\n",
      "sigma.YIZ.0      0.1863  0.19920  0.20649  0.2142  0.23015\n",
      "sigma.Z.0        0.1570  0.18873  0.20812  0.2295  0.27770\n",
      "\n",
      "[1] \"Gelman and Rubin's convergence diagnostic\"\n",
      "Potential scale reduction factors:\n",
      "\n",
      "                Point est. Upper C.I.\n",
      "alpha.YIZ                1       1.00\n",
      "beta.YIZ                 1       1.00\n",
      "gamma.YIZ                1       1.00\n",
      "gamma.mu.Z.D             1       1.01\n",
      "gamma.mu.Z.Fz            1       1.01\n",
      "gamma.sigma.Z.D          1       1.00\n",
      "mu.Z.0                   1       1.01\n",
      "sigma.YIZ.0              1       1.00\n",
      "sigma.Z.0                1       1.00\n",
      "\n",
      "Multivariate psrf\n",
      "\n",
      "1\n"
     ]
    }
   ],
   "source": [
    "mcmc <- lira(kt, l, delta.x=kt_err, delta.y=l_err, covariance.xy=covarxy, z=z, y.threshold=ythresh, time.factor=\"Ez\", gamma.sigma.Z.D='dt', n.chains=4.0, n.adapt=10000, n.iter=1.0e5)"
   ]
  },
  {
   "cell_type": "code",
   "execution_count": null,
   "metadata": {},
   "outputs": [],
   "source": []
  }
 ],
 "metadata": {
  "interpreter": {
   "hash": "019880bd5f47c16ed574ce5b8d6a0bdf0e43247ddbc9816c3045a486e4048823"
  },
  "kernelspec": {
   "display_name": "R",
   "language": "R",
   "name": "python382jvsc74a57bd0019880bd5f47c16ed574ce5b8d6a0bdf0e43247ddbc9816c3045a486e4048823"
  },
  "language_info": {
   "codemirror_mode": "r",
   "file_extension": ".r",
   "mimetype": "text/x-r-source",
   "name": "R",
   "pygments_lexer": "r",
   "version": "3.6.1"
  },
  "orig_nbformat": 4
 },
 "nbformat": 4,
 "nbformat_minor": 2
}
