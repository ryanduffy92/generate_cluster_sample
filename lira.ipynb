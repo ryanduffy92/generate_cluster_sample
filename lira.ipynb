{
 "cells": [
  {
   "cell_type": "code",
   "execution_count": 1,
   "metadata": {},
   "outputs": [
    {
     "name": "stderr",
     "output_type": "stream",
     "text": [
      "Loading required package: coda\n",
      "Loading required package: rjags\n",
      "Warning message:\n",
      "“package ‘rjags’ was built under R version 3.6.3”Linked to JAGS 4.3.0\n",
      "Loaded modules: basemod,bugs\n"
     ]
    }
   ],
   "source": [
    "library(lira)"
   ]
  },
  {
   "cell_type": "code",
   "execution_count": 2,
   "metadata": {},
   "outputs": [],
   "source": [
    "noras <- read.csv(file='noras.csv')\n",
    "kt <- log10(noras$kt_obs/5)\n",
    "l <- log10(noras$l_obs/5.0e44)\n",
    "z <- noras$z\n",
    "kt_err <- noras$kt_obs_err\n",
    "l_err <- noras$l_obs_err\n",
    "covarxy <- noras$covarxy\n",
    "ythresh <- log10(noras$ythresh/5.0e44)\n"
   ]
  },
  {
   "cell_type": "code",
   "execution_count": 3,
   "metadata": {},
   "outputs": [],
   "source": [
    "#mcmc <- lira(kt, l, delta.x=kt_err, delta.y=l_err, covariance.xy=covarxy, z=z, y.threshold=ythresh, time.factor=\"Ez\", gamma.sigma.Z.D='dt', gamma.YIZ=-1.0, n.chains=4.0, n.adapt=1000, n.iter=10000)"
   ]
  },
  {
   "cell_type": "markdown",
   "metadata": {},
   "source": [
    "### n.mixture=3"
   ]
  },
  {
   "cell_type": "code",
   "execution_count": 8,
   "metadata": {},
   "outputs": [
    {
     "name": "stdout",
     "output_type": "stream",
     "text": [
      "\n",
      "Iterations = 20002:70001\n",
      "Thinning interval = 1 \n",
      "Number of chains = 4 \n",
      "Sample size per chain = 50000 \n",
      "\n",
      "1. Empirical mean and standard deviation for each variable,\n",
      "   plus standard error of the mean:\n",
      "\n",
      "                            Mean         SD   Naive SE Time-series SE\n",
      "alpha.YIZ             -5.653e-02  1.132e-02  2.532e-05      7.214e-05\n",
      "beta.YIZ               2.848e+00  4.392e-02  9.821e-05      2.799e-04\n",
      "gamma.mu.Z.D           5.331e-01  6.743e-02  1.508e-04      3.807e-03\n",
      "gamma.mu.Z.Fz         -2.089e-01  5.773e-01  1.291e-03      2.662e-02\n",
      "gamma.sigma.Z.D       -6.182e-01  7.691e-02  1.720e-04      1.503e-03\n",
      "mu.Z.0                 3.527e+01  4.102e+03  9.173e+00      6.769e+01\n",
      "mu.Z.0.mixture[2]      5.021e+01  2.885e+03  6.451e+00      2.730e+01\n",
      "mu.Z.0.mixture[3]      1.076e+03  3.534e+03  7.903e+00      1.943e+02\n",
      "pi[1]                  2.088e-01  3.870e-01  8.654e-04      1.380e-02\n",
      "pi[2]                  2.928e-01  4.375e-01  9.783e-04      1.379e-02\n",
      "pi[3]                  4.984e-01  4.951e-01  1.107e-03      3.942e-05\n",
      "sigma.YIZ.0            1.185e-01  7.326e-03  1.638e-05      4.920e-05\n",
      "sigma.Z.0             1.576e+109 2.246e+111 5.022e+108     1.326e+109\n",
      "sigma.Z.0.mixture[2]  1.155e+115 5.761e+116 1.288e+114     7.636e+114\n",
      "sigma.Z.0.mixture[3]  2.457e+119 2.209e+121 4.940e+118     2.303e+119\n",
      "\n",
      "2. Quantiles for each variable:\n",
      "\n",
      "                           2.5%        25%        50%        75%       97.5%\n",
      "alpha.YIZ            -7.880e-02 -6.416e-02 -5.649e-02 -4.888e-02  -3.446e-02\n",
      "beta.YIZ              2.762e+00  2.819e+00  2.848e+00  2.878e+00   2.934e+00\n",
      "gamma.mu.Z.D          4.004e-01  4.883e-01  5.317e-01  5.784e-01   6.672e-01\n",
      "gamma.mu.Z.Fz        -1.389e+00 -5.807e-01 -1.973e-01  1.696e-01   9.199e-01\n",
      "gamma.sigma.Z.D      -7.774e-01 -6.670e-01 -6.164e-01 -5.668e-01  -4.726e-01\n",
      "mu.Z.0               -9.016e+03 -1.319e+02 -3.726e-01  4.241e+02   9.011e+03\n",
      "mu.Z.0.mixture[2]    -7.920e+03 -5.736e-01 -3.928e-01  1.522e+01   8.069e+03\n",
      "mu.Z.0.mixture[3]    -8.026e+03 -5.305e-01 -4.422e-01  3.447e+03   8.051e+03\n",
      "pi[1]                 1.125e-04  1.331e-03  3.534e-03  1.854e-02   9.976e-01\n",
      "pi[2]                 1.113e-04  1.575e-03  4.641e-03  9.784e-01   9.983e-01\n",
      "pi[3]                 1.739e-04  2.306e-03  4.944e-01  9.945e-01   9.988e-01\n",
      "sigma.YIZ.0           1.047e-01  1.135e-01  1.183e-01  1.233e-01   1.334e-01\n",
      "sigma.Z.0             4.205e-01  1.121e+00  1.232e+25  2.552e+58   1.622e+98\n",
      "sigma.Z.0.mixture[2]  4.005e-01  7.757e-01  2.860e+15  1.888e+39  4.728e+100\n",
      "sigma.Z.0.mixture[3]  4.940e-01  6.841e-01  1.256e+00  3.387e+34  2.629e+111\n",
      "\n",
      "[1] \"Gelman and Rubin's convergence diagnostic\"\n"
     ]
    },
    {
     "ename": "ERROR",
     "evalue": "Error in chol.default(W): le mineur dominant d'ordre 11 n'est pas défini positif\n",
     "output_type": "error",
     "traceback": [
      "Error in chol.default(W): le mineur dominant d'ordre 11 n'est pas défini positif\nTraceback:\n",
      "1. lira(kt, l, delta.x = kt_err, delta.y = l_err, covariance.xy = covarxy, \n .     z = z, y.threshold = ythresh, time.factor = \"Ez\", gamma.sigma.Z.D = \"dt\", \n .     gamma.YIZ = 0.42, n.chains = 4, n.adapt = 20000, n.iter = 50000, \n .     n.mixture = 3)",
      "2. print(gelman.diag(mcmc.samples))",
      "3. gelman.diag(mcmc.samples)",
      "4. chol(W)",
      "5. chol.default(W)"
     ]
    }
   ],
   "source": [
    "mcmc <- lira(kt, l, delta.x=kt_err, delta.y=l_err, covariance.xy=covarxy, z=z, y.threshold=ythresh, time.factor=\"Ez\", gamma.sigma.Z.D='dt', gamma.YIZ=0.42, n.chains=4.0, n.adapt=2.0e4, n.iter=5.0e4, n.mixture=3)"
   ]
  },
  {
   "cell_type": "markdown",
   "metadata": {},
   "source": [
    "### n.mixture=2"
   ]
  },
  {
   "cell_type": "code",
   "execution_count": 9,
   "metadata": {},
   "outputs": [
    {
     "name": "stderr",
     "output_type": "stream",
     "text": [
      "Warning message in jags.model(textConnection(ScriptJAGSText), data = data.jags, :\n",
      "“Adaptation incomplete”"
     ]
    },
    {
     "name": "stdout",
     "output_type": "stream",
     "text": [
      "NOTE: Stopping adaptation\n",
      "\n",
      "\n",
      "\n",
      "Iterations = 20002:70001\n",
      "Thinning interval = 1 \n",
      "Number of chains = 4 \n",
      "Sample size per chain = 50000 \n",
      "\n",
      "1. Empirical mean and standard deviation for each variable,\n",
      "   plus standard error of the mean:\n",
      "\n",
      "                            Mean         SD   Naive SE Time-series SE\n",
      "alpha.YIZ             -5.664e-02  1.133e-02  2.534e-05      7.076e-05\n",
      "beta.YIZ               2.849e+00  4.375e-02  9.783e-05      2.752e-04\n",
      "gamma.mu.Z.D           5.437e-01  6.541e-02  1.463e-04      3.560e-03\n",
      "gamma.mu.Z.Fz         -2.976e-01  5.606e-01  1.253e-03      2.446e-02\n",
      "gamma.sigma.Z.D       -6.098e-01  7.276e-02  1.627e-04      1.423e-03\n",
      "mu.Z.0                -5.745e+00  4.099e+03  9.166e+00      4.211e+01\n",
      "mu.Z.0.mixture[2]     -2.053e+02  6.152e+02  1.376e+00      1.715e+02\n",
      "pi[1]                  5.000e-01  4.967e-01  1.111e-03      2.516e-05\n",
      "pi[2]                  5.000e-01  4.967e-01  1.111e-03      2.516e-05\n",
      "sigma.YIZ.0            1.186e-01  7.328e-03  1.639e-05      4.993e-05\n",
      "sigma.Z.0             2.191e+136 1.717e+138 3.840e+135     2.702e+136\n",
      "sigma.Z.0.mixture[2]   3.336e+92  2.209e+94  4.940e+91      2.440e+92\n",
      "\n",
      "2. Quantiles for each variable:\n",
      "\n",
      "                           2.5%        25%      50%        75%       97.5%\n",
      "alpha.YIZ            -7.909e-02  -0.064163 -0.05659 -4.901e-02  -3.461e-02\n",
      "beta.YIZ              2.763e+00   2.819046  2.84864  2.878e+00   2.934e+00\n",
      "gamma.mu.Z.D          4.189e-01   0.498468  0.54222  5.871e-01   6.753e-01\n",
      "gamma.mu.Z.Fz        -1.438e+00  -0.664754 -0.28001  8.238e-02   7.659e-01\n",
      "gamma.sigma.Z.D      -7.512e-01  -0.658993 -0.61004 -5.611e-01  -4.662e-01\n",
      "mu.Z.0               -8.991e+03 -43.353900 -0.49280 -3.330e-01   9.011e+03\n",
      "mu.Z.0.mixture[2]    -2.229e+03 -12.299155 -0.56677 -4.769e-01   9.003e+02\n",
      "pi[1]                 1.750e-04   0.002351  0.50033  9.977e-01   9.998e-01\n",
      "pi[2]                 1.947e-04   0.002317  0.49967  9.976e-01   9.998e-01\n",
      "sigma.YIZ.0           1.047e-01   0.113547  0.11837  1.234e-01   1.336e-01\n",
      "sigma.Z.0             4.850e-01   0.684816  1.23823  8.073e+35  1.142e+127\n",
      "sigma.Z.0.mixture[2]  4.781e-01   0.672671  1.07648  1.333e+29   1.933e+64\n",
      "\n",
      "[1] \"Gelman and Rubin's convergence diagnostic\"\n"
     ]
    },
    {
     "ename": "ERROR",
     "evalue": "Error in chol.default(W): le mineur dominant d'ordre 9 n'est pas défini positif\n",
     "output_type": "error",
     "traceback": [
      "Error in chol.default(W): le mineur dominant d'ordre 9 n'est pas défini positif\nTraceback:\n",
      "1. lira(kt, l, delta.x = kt_err, delta.y = l_err, covariance.xy = covarxy, \n .     z = z, y.threshold = ythresh, time.factor = \"Ez\", gamma.sigma.Z.D = \"dt\", \n .     gamma.YIZ = 0.42, n.chains = 4, n.adapt = 20000, n.iter = 50000, \n .     n.mixture = 2)",
      "2. print(gelman.diag(mcmc.samples))",
      "3. gelman.diag(mcmc.samples)",
      "4. chol(W)",
      "5. chol.default(W)"
     ]
    }
   ],
   "source": [
    "mcmc <- lira(kt, l, delta.x=kt_err, delta.y=l_err, covariance.xy=covarxy, z=z, y.threshold=ythresh, time.factor=\"Ez\", gamma.sigma.Z.D='dt', gamma.YIZ=0.42, n.chains=4.0, n.adapt=2.0e4, n.iter=5.0e4, n.mixture=2)"
   ]
  },
  {
   "cell_type": "code",
   "execution_count": null,
   "metadata": {},
   "outputs": [],
   "source": [
    "#mcmc <- lira(kt, l, delta.x=kt_err, delta.y=l_err, covariance.xy=covarxy, z=z, y.threshold=ythresh, time.factor=\"Ez\", gamma.sigma.Z.D='dt', gamma.YIZ=0.42, n.chains=4.0, n.adapt=100, n.iter=1000)"
   ]
  },
  {
   "cell_type": "markdown",
   "metadata": {},
   "source": [
    "* impossible to put in numerical integrations in public version\n",
    "* LIRA does not deal with normalisations - not possible to use number counts as an external prior\n",
    "* Mauro has private code which works with multiple variables based on LIRA framework\n",
    "    * difficult to implement the Tinker hmf into LIRA as JAGS does not take non-standard functions (such as Gaussians and gamma functions) well\n",
    "    * JAGS is very high performing but is very inflexible\n",
    "\n",
    "* when dimensionality is large mcmc is less efficient than using hamiltonian monte carlo\n",
    "* "
   ]
  }
 ],
 "metadata": {
  "interpreter": {
   "hash": "019880bd5f47c16ed574ce5b8d6a0bdf0e43247ddbc9816c3045a486e4048823"
  },
  "kernelspec": {
   "display_name": "R",
   "language": "R",
   "name": "python382jvsc74a57bd0019880bd5f47c16ed574ce5b8d6a0bdf0e43247ddbc9816c3045a486e4048823"
  },
  "language_info": {
   "codemirror_mode": "r",
   "file_extension": ".r",
   "mimetype": "text/x-r-source",
   "name": "R",
   "pygments_lexer": "r",
   "version": "3.6.1"
  },
  "orig_nbformat": 4
 },
 "nbformat": 4,
 "nbformat_minor": 2
}
